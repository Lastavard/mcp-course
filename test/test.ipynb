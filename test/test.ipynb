{
 "cells": [
  {
   "cell_type": "code",
   "execution_count": null,
   "id": "2c0314d9",
   "metadata": {},
   "outputs": [],
   "source": [
    "import json\n",
    "\n",
    "def get_workflow_status(workflow_name: Optional[str] = None) -> str:\n",
    "    \"\"\"Get the current status of GitHub Actions workflows.\n",
    "    \n",
    "    Args:\n",
    "        workflow_name: Optional specific workflow name to filter by\n",
    "    \"\"\"\n",
    "    # TODO: Implement this function\n",
    "    with open('C:\\Users\\Nazaruk\\Desktop\\git_action_webook_v2\\mcp-course\\projects\\unit3\\slack-notification\\solution\\github_events.json', \"r\", encoding=\"utf-8\") as f:\n",
    "            github_event_json = json.load(f)\n",
    "            \n",
    "    workflow_run_events = []\n",
    "    for event in github_event_json:\n",
    "        if \"workflow_run\" in event:\n",
    "            workflow_run_events.append(event)\n",
    "    workflow_run_events_with_name = []\n",
    "    if workflow_name:\n",
    "        for event in workflow_run_events:\n",
    "                if event[\"workflow_run\"][\"name\"] == workflow_name:\n",
    "                    workflow_run_events_with_name.append(event)\n",
    "        workflow_run_events = workflow_run_events_with_name\n",
    "    workflow_statuses = {}\n",
    "    for event in workflow_run_events:\n",
    "        workflow_name = event[\"workflow_run\"][\"name\"]\n",
    "        if workflow_name not in workflow_statuses:\n",
    "            workflow_statuses[workflow_name] = {\n",
    "                \"status\": event[\"workflow_run\"][\"status\"],\n",
    "                \"timestamp\": datetime.fromisoformat(event[\"timestamp\"].replace('Z', '+00:00'))\n",
    "            }\n",
    "\n",
    "        # doesnt return the latest status\n",
    "    return json.dumps({\n",
    "            \"workflows\": workflow_statuses,\n",
    "            \"total_workflows\": len(workflow_statuses),\n",
    "            \"filtered_by\": workflow_name\n",
    "        }, indent=2)\n",
    "        \n",
    "    # 1. Read events from EVENTS_FILE\n",
    "    # 2. Filter events for workflow_run events\n",
    "    # 3. If workflow_name provided, filter by that name\n",
    "    # 4. Group by workflow and show latest status\n",
    "    # 5. Return formatted workflow status information\n",
    "    \n",
    "    return json.dumps({\"message\": \"TODO: Implement get_workflow_status\"})\n"
   ]
  },
  {
   "cell_type": "code",
   "execution_count": null,
   "id": "08e71c41",
   "metadata": {},
   "outputs": [],
   "source": [
    "github_event_json = get_workflow_status()"
   ]
  }
 ],
 "metadata": {
  "kernelspec": {
   "display_name": "Python 3",
   "language": "python",
   "name": "python3"
  },
  "language_info": {
   "name": "python",
   "version": "3.12.3"
  }
 },
 "nbformat": 4,
 "nbformat_minor": 5
}
