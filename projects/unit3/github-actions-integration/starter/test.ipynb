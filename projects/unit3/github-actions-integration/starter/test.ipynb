{
 "cells": [
  {
   "cell_type": "code",
   "execution_count": null,
   "id": "2c0314d9",
   "metadata": {},
   "outputs": [
    {
     "ename": "SyntaxError",
     "evalue": "(unicode error) 'unicodeescape' codec can't decode bytes in position 2-3: truncated \\UXXXXXXXX escape (1819004135.py, line 10)",
     "output_type": "error",
     "traceback": [
      "  \u001b[36mCell\u001b[39m\u001b[36m \u001b[39m\u001b[32mIn[2]\u001b[39m\u001b[32m, line 10\u001b[39m\n\u001b[31m    \u001b[39m\u001b[31mwith open('C:\\Users\\Nazaruk\\Desktop\\git_action_webook_v2\\mcp-course\\projects\\unit3\\slack-notification\\solution\\github_events.json', \"r\", encoding=\"utf-8\") as f:\u001b[39m\n                                                                                                                                      ^\n\u001b[31mSyntaxError\u001b[39m\u001b[31m:\u001b[39m (unicode error) 'unicodeescape' codec can't decode bytes in position 2-3: truncated \\UXXXXXXXX escape\n"
     ]
    }
   ],
   "source": [
    "import json\n",
    "\n",
    "def get_workflow_status(workflow_name: Optional[str] = None) -> str:\n",
    "    \"\"\"Get the current status of GitHub Actions workflows.\n",
    "    \n",
    "    Args:\n",
    "        workflow_name: Optional specific workflow name to filter by\n",
    "    \"\"\"\n",
    "    # TODO: Implement this function\n",
    "    with open('C:\\\\Users\\\\Nazaruk\\\\Desktop\\\\git_action_webook_v2\\\\mcp-course\\\\projects\\\\unit3\\\\slack-notification\\\\solution\\\\github_events.json', \"r\", encoding=\"utf-8\") as f:\n",
    "        github_event_json = json.load(f)\n",
    "            \n",
    "    workflow_run_events = []\n",
    "    for event in github_event_json:\n",
    "        if \"workflow_run\" in event:\n",
    "            workflow_run_events.append(event)\n",
    "    workflow_run_events_with_name = []\n",
    "    if workflow_name:\n",
    "        for event in workflow_run_events:\n",
    "                if event[\"workflow_run\"][\"name\"] == workflow_name:\n",
    "                    workflow_run_events_with_name.append(event)\n",
    "        workflow_run_events = workflow_run_events_with_name\n",
    "    workflow_statuses = {}\n",
    "    for event in workflow_run_events:\n",
    "        workflow_name = event[\"workflow_run\"][\"name\"]\n",
    "        if workflow_name not in workflow_statuses:\n",
    "            workflow_statuses[workflow_name] = {\n",
    "                \"status\": event[\"workflow_run\"][\"status\"],\n",
    "                \"timestamp\": datetime.fromisoformat(event[\"timestamp\"].replace('Z', '+00:00'))\n",
    "            }\n",
    "\n",
    "        # doesnt return the latest status\n",
    "    return json.dumps({\n",
    "            \"workflows\": workflow_statuses,\n",
    "            \"total_workflows\": len(workflow_statuses),\n",
    "            \"filtered_by\": workflow_name\n",
    "        }, indent=2)\n",
    "        \n",
    "    # 1. Read events from EVENTS_FILE\n",
    "    # 2. Filter events for workflow_run events\n",
    "    # 3. If workflow_name provided, filter by that name\n",
    "    # 4. Group by workflow and show latest status\n",
    "    # 5. Return formatted workflow status information\n",
    "    \n",
    "    return json.dumps({\"message\": \"TODO: Implement get_workflow_status\"})\n"
   ]
  }
 ],
 "metadata": {
  "kernelspec": {
   "display_name": "Python 3",
   "language": "python",
   "name": "python3"
  },
  "language_info": {
   "codemirror_mode": {
    "name": "ipython",
    "version": 3
   },
   "file_extension": ".py",
   "mimetype": "text/x-python",
   "name": "python",
   "nbconvert_exporter": "python",
   "pygments_lexer": "ipython3",
   "version": "3.11.3"
  }
 },
 "nbformat": 4,
 "nbformat_minor": 5
}
